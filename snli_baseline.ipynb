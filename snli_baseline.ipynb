{
 "cells": [
  {
   "cell_type": "code",
   "execution_count": 7,
   "metadata": {
    "collapsed": true
   },
   "outputs": [],
   "source": [
    "import pandas as pd\n",
    "import numpy as np\n",
    "from collections import defaultdict\n",
    "import nltk\n",
    "import string\n",
    "from nltk.stem.porter import *\n",
    "from sklearn import linear_model\n",
    "import sys\n",
    "import unicodedata\n",
    "import string\n",
    "import operator\n",
    "import math\n",
    "from sklearn.feature_extraction.text import TfidfVectorizer\n",
    "from nltk.corpus import stopwords\n",
    "from nltk.stem.porter import PorterStemmer\n",
    "from scipy import sparse\n",
    "from scipy.spatial.distance import cosine\n",
    "from sklearn.metrics import average_precision_score\n",
    "from sklearn.metrics import precision_recall_curve\n",
    "import matplotlib.pyplot as plt\n",
    "stdout = sys.stdout\n",
    "reload(sys)  \n",
    "sys.setdefaultencoding('utf8')\n",
    "sys.stdout = stdout"
   ]
  },
  {
   "cell_type": "code",
   "execution_count": 4,
   "metadata": {
    "collapsed": false
   },
   "outputs": [],
   "source": [
    "import jsonlines\n",
    "import numpy as np\n",
    "import cPickle as pickle\n",
    "import os\n",
    "\n",
    "class Preprocessor:\n",
    "    def __init__(self, dataDir = './'):\n",
    "        self.data = []\n",
    "        self.dataDir = dataDir \n",
    "\n",
    "    def isSampleValid(self, sample):\n",
    "        return sample['gold_label'] != '-'\n",
    "    \n",
    "    def getDataFromJSONL(self, filename):\n",
    "        numInvalid = 0\n",
    "        with open(filename) as fp:\n",
    "            reader = jsonlines.Reader(fp)\n",
    "            for obj in reader.iter(type=dict, skip_invalid=True):\n",
    "                if self.isSampleValid(obj):\n",
    "                    sample = {}\n",
    "                    sample['gold_label'] = obj['gold_label']\n",
    "                    sample['sentence1'] = obj['sentence1']\n",
    "                    sample['sentence2'] = obj['sentence2']\n",
    "                    self.data.append(sample)\n",
    "                else:\n",
    "                    numInvalid+=1\n",
    "        print len(self.data)\n",
    "        print numInvalid\n",
    "    \n",
    "    "
   ]
  },
  {
   "cell_type": "code",
   "execution_count": 5,
   "metadata": {
    "collapsed": false
   },
   "outputs": [
    {
     "name": "stdout",
     "output_type": "stream",
     "text": [
      "549367\n",
      "785\n"
     ]
    }
   ],
   "source": [
    "pp = Preprocessor()\n",
    "pp.getDataFromJSONL('./snli_1.0_train.jsonl')"
   ]
  },
  {
   "cell_type": "code",
   "execution_count": 80,
   "metadata": {
    "collapsed": false
   },
   "outputs": [],
   "source": [
    "#nltk.download(\"stopwords\")\n",
    "from nltk import word_tokenize\n",
    "from nltk.corpus import stopwords\n",
    "from nltk.translate.bleu_score import sentence_bleu\n",
    "stop = set(stopwords.words('english'))\n",
    "BLEU_Score_List = []\n",
    "for j in range(len(pp.data)):\n",
    "    weights = [1./4., 1./4., 1./4., 1./4.]\n",
    "    sentence1 = pp.data[j]['sentence1']\n",
    "    sentence1 = unicodedata.normalize('NFKD', sentence1).encode('ascii','ignore')\n",
    "    reference = [[i for i in sentence1.lower().split() if i not in stop]]\n",
    "    sentence2 = pp.data[j]['sentence2']\n",
    "    sentence2 = unicodedata.normalize('NFKD', sentence2).encode('ascii','ignore')\n",
    "    candidate = [i for i in sentence2.lower().split() if i not in stop]\n",
    "    length = min([len(reference[0]), len(candidate)]) \n",
    "    if length == 0:\n",
    "        BLEU_Score_List.append(0)\n",
    "    else:\n",
    "        if length < 4:\n",
    "            weights = ( 1. / length ,) * length\n",
    "        score = sentence_bleu(reference, candidate, weights)\n",
    "        BLEU_Score_List.append(score)      "
   ]
  },
  {
   "cell_type": "code",
   "execution_count": 81,
   "metadata": {
    "collapsed": false
   },
   "outputs": [
    {
     "name": "stdout",
     "output_type": "stream",
     "text": [
      "Writing 'BLEU_Score_List' (list) to file 'BLEU_Score_List.txt'.\n"
     ]
    }
   ],
   "source": [
    "%store BLEU_Score_List > BLEU_Score_List.txt"
   ]
  },
  {
   "cell_type": "code",
   "execution_count": 109,
   "metadata": {
    "collapsed": false
   },
   "outputs": [],
   "source": [
    "BLEU_Score_Array = np.array(BLEU_Score_List)"
   ]
  },
  {
   "cell_type": "code",
   "execution_count": 115,
   "metadata": {
    "collapsed": false
   },
   "outputs": [],
   "source": [
    "BLEU_Score_Array = BLEU_Score_Array[:, np.newaxis]"
   ]
  },
  {
   "cell_type": "code",
   "execution_count": 93,
   "metadata": {
    "collapsed": true
   },
   "outputs": [],
   "source": [
    "Target_List = [pp.data[j]['gold_label'] for j in range(len(pp.data))]"
   ]
  },
  {
   "cell_type": "code",
   "execution_count": 94,
   "metadata": {
    "collapsed": false
   },
   "outputs": [
    {
     "name": "stdout",
     "output_type": "stream",
     "text": [
      "Writing 'Target_List' (list) to file 'Target_List.txt'.\n"
     ]
    }
   ],
   "source": [
    "%store Target_List > Target_List.txt"
   ]
  },
  {
   "cell_type": "code",
   "execution_count": 95,
   "metadata": {
    "collapsed": true
   },
   "outputs": [],
   "source": [
    "Target_Array = np.array(Target_List)"
   ]
  },
  {
   "cell_type": "code",
   "execution_count": 104,
   "metadata": {
    "collapsed": false
   },
   "outputs": [
    {
     "name": "stdout",
     "output_type": "stream",
     "text": [
      "(549367,)\n"
     ]
    }
   ],
   "source": [
    "print Target_Array.shape"
   ]
  },
  {
   "cell_type": "code",
   "execution_count": 116,
   "metadata": {
    "collapsed": false
   },
   "outputs": [
    {
     "name": "stdout",
     "output_type": "stream",
     "text": [
      "(549367, 1)\n"
     ]
    }
   ],
   "source": [
    "print BLEU_Score_Array.shape"
   ]
  },
  {
   "cell_type": "code",
   "execution_count": 120,
   "metadata": {
    "collapsed": false
   },
   "outputs": [
    {
     "name": "stdout",
     "output_type": "stream",
     "text": [
      "Writing 'y_pred_list' (list) to file 'y_pred_list.txt'.\n"
     ]
    }
   ],
   "source": [
    "from sklearn.naive_bayes import GaussianNB\n",
    "gnb = GaussianNB()\n",
    "y_pred = gnb.fit(BLEU_Score_Array, Target_Array).predict(BLEU_Score_Array)\n",
    "y_pred_list = y_pred.tolist()\n",
    "%store y_pred_list > y_pred_list.txt"
   ]
  },
  {
   "cell_type": "code",
   "execution_count": 121,
   "metadata": {
    "collapsed": false
   },
   "outputs": [
    {
     "name": "stdout",
     "output_type": "stream",
     "text": [
      "Number of mislabeled points out of a total 549367 points : 331625\n"
     ]
    }
   ],
   "source": [
    "print(\"Number of mislabeled points out of a total %d points : %d\" % (BLEU_Score_Array.shape[0],(Target_Array != y_pred).sum()))"
   ]
  },
  {
   "cell_type": "code",
   "execution_count": 123,
   "metadata": {
    "collapsed": false
   },
   "outputs": [
    {
     "name": "stdout",
     "output_type": "stream",
     "text": [
      "217742\n"
     ]
    }
   ],
   "source": [
    "print 549367 - 331625"
   ]
  },
  {
   "cell_type": "code",
   "execution_count": 124,
   "metadata": {
    "collapsed": false
   },
   "outputs": [
    {
     "name": "stdout",
     "output_type": "stream",
     "text": [
      "0.396350709089\n"
     ]
    }
   ],
   "source": [
    "print 217742./549367."
   ]
  },
  {
   "cell_type": "code",
   "execution_count": null,
   "metadata": {
    "collapsed": true
   },
   "outputs": [],
   "source": []
  }
 ],
 "metadata": {
  "anaconda-cloud": {},
  "kernelspec": {
   "display_name": "Python [default]",
   "language": "python",
   "name": "python2"
  },
  "language_info": {
   "codemirror_mode": {
    "name": "ipython",
    "version": 2
   },
   "file_extension": ".py",
   "mimetype": "text/x-python",
   "name": "python",
   "nbconvert_exporter": "python",
   "pygments_lexer": "ipython2",
   "version": "2.7.12"
  }
 },
 "nbformat": 4,
 "nbformat_minor": 1
}
